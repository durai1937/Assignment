{
 "cells": [
  {
   "cell_type": "code",
   "execution_count": 1,
   "id": "93b6d320",
   "metadata": {},
   "outputs": [],
   "source": [
    "import tensorflow as tf"
   ]
  },
  {
   "cell_type": "code",
   "execution_count": 2,
   "id": "2f4e27b7",
   "metadata": {},
   "outputs": [
    {
     "name": "stdout",
     "output_type": "stream",
     "text": [
      "2.8.0\n"
     ]
    }
   ],
   "source": [
    "print(tf.__version__)"
   ]
  },
  {
   "cell_type": "code",
   "execution_count": 3,
   "id": "a40fe870",
   "metadata": {},
   "outputs": [],
   "source": [
    "import os"
   ]
  },
  {
   "cell_type": "code",
   "execution_count": 7,
   "id": "be173341",
   "metadata": {},
   "outputs": [
    {
     "data": {
      "text/plain": [
       "'/Users/lohithsowmiyan/machine learning/ibm project'"
      ]
     },
     "execution_count": 7,
     "metadata": {},
     "output_type": "execute_result"
    }
   ],
   "source": [
    "os.getcwd()"
   ]
  },
  {
   "cell_type": "code",
   "execution_count": 9,
   "id": "881d1c01",
   "metadata": {},
   "outputs": [
    {
     "name": "stderr",
     "output_type": "stream",
     "text": [
      "Copying files: 4317 files [00:01, 2198.07 files/s]\n"
     ]
    }
   ],
   "source": [
    "import splitfolders\n",
    "splitfolders.ratio('flowers', output=\"output\", seed=1337, ratio=(.8, 0.1,0.1)) "
   ]
  },
  {
   "cell_type": "code",
   "execution_count": 18,
   "id": "a38f17c7",
   "metadata": {},
   "outputs": [],
   "source": [
    "train = '/Users/lohithsowmiyan/machine learning/ibm project/output/train'\n",
    "test = '/Users/lohithsowmiyan/machine learning/ibm project/output/test'\n",
    "val = '/Users/lohithsowmiyan/machine learning/ibm project/output/val'"
   ]
  },
  {
   "cell_type": "code",
   "execution_count": 13,
   "id": "632e7513",
   "metadata": {},
   "outputs": [
    {
     "data": {
      "text/plain": [
       "['daisy', 'rose', 'tulip', 'dandelion', 'sunflower']"
      ]
     },
     "execution_count": 13,
     "metadata": {},
     "output_type": "execute_result"
    }
   ],
   "source": [
    "classes = []\n",
    "for i in os.listdir(train):\n",
    "    classes.append(i)\n",
    "classes"
   ]
  },
  {
   "cell_type": "code",
   "execution_count": 14,
   "id": "ca51b9ce",
   "metadata": {},
   "outputs": [
    {
     "name": "stdout",
     "output_type": "stream",
     "text": [
      "Found 3452 images belonging to 5 classes.\n"
     ]
    }
   ],
   "source": [
    "train_batches = tf.keras.preprocessing.image.ImageDataGenerator(preprocessing_function=None) \\\n",
    ".flow_from_directory(directory=train,target_size=(224,224),classes=classes,batch_size=1)"
   ]
  },
  {
   "cell_type": "code",
   "execution_count": 19,
   "id": "44f9a860",
   "metadata": {},
   "outputs": [
    {
     "name": "stdout",
     "output_type": "stream",
     "text": [
      "Found 435 images belonging to 5 classes.\n"
     ]
    }
   ],
   "source": [
    "test_batch = tf.keras.preprocessing.image.ImageDataGenerator(preprocessing_function =None) \\\n",
    ".flow_from_directory(directory=test,target_size=(224,224),classes=classes,batch_size=1)"
   ]
  },
  {
   "cell_type": "code",
   "execution_count": 17,
   "id": "e59b9fea",
   "metadata": {},
   "outputs": [
    {
     "name": "stdout",
     "output_type": "stream",
     "text": [
      "Found 430 images belonging to 5 classes.\n"
     ]
    }
   ],
   "source": [
    "validation_batch = tf.keras.preprocessing.image.ImageDataGenerator(preprocessing_function=None) \\\n",
    ".flow_from_directory(directory=val,target_size=(224,224),classes=classes,batch_size=1)"
   ]
  },
  {
   "cell_type": "code",
   "execution_count": 22,
   "id": "490e80fa",
   "metadata": {},
   "outputs": [],
   "source": [
    "model = tf.keras.Sequential([\n",
    "    tf.keras.layers.Conv2D(filters=32,kernel_size=(3,3),activation='relu',padding='same',input_shape=(224,224,3)),\n",
    "    tf.keras.layers.MaxPool2D(pool_size=(2,2),strides=2),\n",
    "    tf.keras.layers.Conv2D(filters=64,kernel_size=64,activation='relu',padding='same'),\n",
    "    tf.keras.layers.MaxPool2D(pool_size=(2,2),strides=2),\n",
    "    tf.keras.layers.Flatten(),\n",
    "    tf.keras.layers.Dense(10,activation='relu'),\n",
    "    tf.keras.layers.Dense(5,activation='softmax')]\n",
    ")\n"
   ]
  },
  {
   "cell_type": "code",
   "execution_count": 23,
   "id": "e4d987a4",
   "metadata": {},
   "outputs": [],
   "source": [
    "model.compile(loss='categorical_crossentropy',optimizer='Adam',metrics=['accuracy'])"
   ]
  },
  {
   "cell_type": "code",
   "execution_count": 27,
   "id": "f19c471f",
   "metadata": {},
   "outputs": [
    {
     "name": "stdout",
     "output_type": "stream",
     "text": [
      "3452/3452 [==============================] - 4226s 1s/step - loss: 9.1157 - accuracy: 0.2399 - val_loss: 1.6023 - val_accuracy: 0.2419\n"
     ]
    },
    {
     "data": {
      "text/plain": [
       "<keras.callbacks.History at 0x16aabdca0>"
      ]
     },
     "execution_count": 27,
     "metadata": {},
     "output_type": "execute_result"
    }
   ],
   "source": [
    "model.fit(x=train_batches,validation_data=validation_batch,epochs=1,verbose=True)"
   ]
  },
  {
   "cell_type": "code",
   "execution_count": 29,
   "id": "6925e557",
   "metadata": {},
   "outputs": [],
   "source": [
    "os.mkdir('./saved_model/')"
   ]
  },
  {
   "cell_type": "code",
   "execution_count": 30,
   "id": "4d35ed1f",
   "metadata": {},
   "outputs": [
    {
     "name": "stdout",
     "output_type": "stream",
     "text": [
      "INFO:tensorflow:Assets written to: ./saved_model/model/assets\n"
     ]
    }
   ],
   "source": [
    "model.save('./saved_model/model')"
   ]
  },
  {
   "cell_type": "code",
   "execution_count": 33,
   "id": "5d504065",
   "metadata": {},
   "outputs": [
    {
     "data": {
      "text/plain": [
       "['daisy', 'rose', 'tulip', 'dandelion', 'sunflower']"
      ]
     },
     "execution_count": 33,
     "metadata": {},
     "output_type": "execute_result"
    }
   ],
   "source": [
    "classes"
   ]
  },
  {
   "cell_type": "code",
   "execution_count": 34,
   "id": "3c3c493a",
   "metadata": {},
   "outputs": [
    {
     "name": "stdout",
     "output_type": "stream",
     "text": [
      "435/435 [==============================] - 129s 297ms/step - loss: 1.5983 - accuracy: 0.2437\n"
     ]
    }
   ],
   "source": [
    "loss,accuracy = model.evaluate(test_batch,verbose=True)"
   ]
  },
  {
   "cell_type": "code",
   "execution_count": null,
   "id": "a93b8ef8",
   "metadata": {},
   "outputs": [],
   "source": []
  }
 ],
 "metadata": {
  "kernelspec": {
   "display_name": "Python 3",
   "language": "python",
   "name": "python3"
  },
  "language_info": {
   "codemirror_mode": {
    "name": "ipython",
    "version": 3
   },
   "file_extension": ".py",
   "mimetype": "text/x-python",
   "name": "python",
   "nbconvert_exporter": "python",
   "pygments_lexer": "ipython3",
   "version": "3.9.7"
  }
 },
 "nbformat": 4,
 "nbformat_minor": 5
}
